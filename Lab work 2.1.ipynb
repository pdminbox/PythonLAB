{
 "cells": [
  {
   "cell_type": "code",
   "execution_count": 10,
   "metadata": {},
   "outputs": [
    {
     "data": {
      "text/plain": [
       "'• Create any variable with name var1\\n• Check type of var1 with type function\\n• Check is var1 is True\\n• Check is var1 is False\\n• Create var2 that equal to (var1 or True)\\n• Check is var2 is True\\n• Check is var2 is False\\n• Check result for var2 and var1'"
      ]
     },
     "execution_count": 10,
     "metadata": {},
     "output_type": "execute_result"
    }
   ],
   "source": [
    "\"\"\"• Create any variable with name var1\n",
    "• Check type of var1 with type function\n",
    "• Check is var1 is True\n",
    "• Check is var1 is False\n",
    "• Create var2 that equal to (var1 or True)\n",
    "• Check is var2 is True\n",
    "• Check is var2 is False\n",
    "• Check result for var2 and var1\"\"\""
   ]
  },
  {
   "cell_type": "code",
   "execution_count": 13,
   "metadata": {},
   "outputs": [
    {
     "name": "stdout",
     "output_type": "stream",
     "text": [
      "<class 'str'>\n",
      "True\n",
      "True\n",
      "test\n",
      "test\n"
     ]
    }
   ],
   "source": [
    "var1 = \"test\"\n",
    "print(type(var1))\n",
    "print(bool(var1))\n",
    "\n",
    "var2 = var1\n",
    "print(bool(var2))\n",
    "print(var1)\n",
    "print(var2)"
   ]
  }
 ],
 "metadata": {
  "kernelspec": {
   "display_name": "Python 3",
   "language": "python",
   "name": "python3"
  },
  "language_info": {
   "codemirror_mode": {
    "name": "ipython",
    "version": 3
   },
   "file_extension": ".py",
   "mimetype": "text/x-python",
   "name": "python",
   "nbconvert_exporter": "python",
   "pygments_lexer": "ipython3",
   "version": "3.7.3"
  }
 },
 "nbformat": 4,
 "nbformat_minor": 2
}
