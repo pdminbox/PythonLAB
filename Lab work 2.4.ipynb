{
 "cells": [
  {
   "cell_type": "code",
   "execution_count": null,
   "metadata": {},
   "outputs": [],
   "source": [
    "\"\"\"• Generate list with lowercase and uppercase alphabet plus numbers\n",
    "• Print 1st symbol of list\n",
    "• Print last symbol\n",
    "• Print 3rd from start and 3rd from the end\n",
    "• Slice first 10 symbols\n",
    "• Print only symbols with index, which divides on 2 without remaining\n",
    "• Print only integer values from list\n",
    "• Reverse list using slice\n",
    "• Convert base list into string\"\"\""
   ]
  },
  {
   "cell_type": "code",
   "execution_count": 26,
   "metadata": {},
   "outputs": [
    {
     "name": "stdout",
     "output_type": "stream",
     "text": [
      "w\n",
      "W\n",
      "a L\n",
      "['w', 'D', 'a', 'K', 'k', 3, 'i', 99, 'd', 'M']\n",
      "[3, 99]\n",
      "['W', 'P', 'L', 'o', 'M', 'd', 99, 'i', 3, 'k', 'K', 'a', 'D', 'w']\n",
      "['w', 'D', 'a', 'K', 'k', '3', 'i', '99', 'd', 'M', 'o', 'L', 'P', 'W']\n"
     ]
    }
   ],
   "source": [
    "ls = ['w','D','a','K','k', 3, 'i', 99, 'd', 'M', 'o', 'L', 'P', 'W']\n",
    "l = []\n",
    "l_str = []\n",
    "n=0\n",
    "\n",
    "print(ls[0])\n",
    "print(ls[-1])\n",
    "print(ls[2],ls[-3])\n",
    "print(ls[:10])\n",
    "\n",
    "for i in ls:\n",
    "    if n % 2 == 0:\n",
    "        l.append(i)\n",
    "    n=n+1\n",
    "\n",
    "print([x for x in ls if type(x) == int])\n",
    "print(ls[::-1])\n",
    "\n",
    "print([str(i) for i in ls])"
   ]
  }
 ],
 "metadata": {
  "kernelspec": {
   "display_name": "Python 3",
   "language": "python",
   "name": "python3"
  },
  "language_info": {
   "codemirror_mode": {
    "name": "ipython",
    "version": 3
   },
   "file_extension": ".py",
   "mimetype": "text/x-python",
   "name": "python",
   "nbconvert_exporter": "python",
   "pygments_lexer": "ipython3",
   "version": "3.7.3"
  }
 },
 "nbformat": 4,
 "nbformat_minor": 2
}
