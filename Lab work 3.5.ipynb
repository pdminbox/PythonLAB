{
 "cells": [
  {
   "cell_type": "code",
   "execution_count": 1,
   "metadata": {},
   "outputs": [
    {
     "name": "stdout",
     "output_type": "stream",
     "text": [
      "1999\n",
      "Рік не високосний\n"
     ]
    }
   ],
   "source": [
    "while True:\n",
    "    try:\n",
    "        y = input()\n",
    "        if int(y)%4==0 and (int(y)%100==0 or int(y)%400==0):\n",
    "            print('Рік високосний')\n",
    "            break\n",
    "        else:\n",
    "            print('Рік не високосний')\n",
    "            break\n",
    "    except ValueError:\n",
    "        print('Помилка вводу')"
   ]
  }
 ],
 "metadata": {
  "kernelspec": {
   "display_name": "Python 3",
   "language": "python",
   "name": "python3"
  },
  "language_info": {
   "codemirror_mode": {
    "name": "ipython",
    "version": 3
   },
   "file_extension": ".py",
   "mimetype": "text/x-python",
   "name": "python",
   "nbconvert_exporter": "python",
   "pygments_lexer": "ipython3",
   "version": "3.7.3"
  }
 },
 "nbformat": 4,
 "nbformat_minor": 2
}
