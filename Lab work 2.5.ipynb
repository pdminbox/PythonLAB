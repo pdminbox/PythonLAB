{
 "cells": [
  {
   "cell_type": "code",
   "execution_count": 8,
   "metadata": {},
   "outputs": [
    {
     "name": "stdout",
     "output_type": "stream",
     "text": [
      "Domain for Ukraine is UA.\n",
      "Domain for Australia is AU.\n",
      "Domain for Japan is JP.\n",
      "Domain for Canada is CA.\n",
      "Domain for Hungary is HU.\n",
      "Domain for Germany is DE.\n",
      "The capital of UA is Kiev\n",
      "The capital of AU is Canberra\n",
      "The capital of JP is Tokyo\n",
      "The capital of CA is Ottawa\n",
      "The capital of HU is Budapest\n",
      "The capital of DE is Berlin\n",
      "Domain for Ukraine is UA.The capital is Kiev\n",
      "Domain for Australia is AU.The capital is Canberra\n",
      "Domain for Japan is JP.The capital is Tokyo\n",
      "Domain for Canada is CA.The capital is Ottawa\n",
      "Domain for Hungary is HU.The capital is Budapest\n",
      "Domain for Germany is DE.The capital is Berlin\n",
      "Domain for Ukraine is ['UA', 'COM', 'GOV'].The capital is Kiev\n",
      "Domain for Australia is ['AU', 'COM', 'GOV'].The capital is Canberra\n",
      "Domain for Japan is ['JP', 'COM', 'GOV'].The capital is Tokyo\n",
      "Domain for Canada is ['CA', 'COM', 'GOV'].The capital is Ottawa\n",
      "Domain for Hungary is ['HU', 'COM', 'GOV'].The capital is Budapest\n",
      "Domain for Germany is ['DE', 'COM', 'GOV'].The capital is Berlin\n"
     ]
    }
   ],
   "source": [
    "\n",
    "coun = {'Ukraine' : 'UA', 'Australia' : 'AU', 'Japan' : 'JP', 'Canada' : 'CA', 'Hungary' : 'HU'}\n",
    "cap = {'UA': 'Kiev','AU': 'Canberra','JP': 'Tokyo','CA': 'Ottawa','HU': 'Budapest'}\n",
    "coun['Germany'] ='DE'\n",
    "cap['DE'] = 'Berlin'\n",
    "\n",
    "\n",
    "for k, v in coun.items():\n",
    "    print (\"Domain for {} is {}.\".format(k, v))\n",
    "\n",
    "for k, v in cap.items():\n",
    "    print (\"The capital of {} is {}\".format(k, v))\n",
    "\n",
    "for k, v in coun.items():\n",
    "    print (\"Domain for {} is {}.The capital is {}\".format(k, v, cap[v]))\n",
    "\n",
    "for k, v in coun.items():\n",
    "    coun[k] = [v, 'COM', 'GOV']\n",
    "\n",
    "for k, v in coun.items():\n",
    "    print (\"Domain for {} is {}.The capital is {}\".format(k, v, cap[v[0]]))\n",
    "    \n"
   ]
  }
 ],
 "metadata": {
  "kernelspec": {
   "display_name": "Python 3",
   "language": "python",
   "name": "python3"
  },
  "language_info": {
   "codemirror_mode": {
    "name": "ipython",
    "version": 3
   },
   "file_extension": ".py",
   "mimetype": "text/x-python",
   "name": "python",
   "nbconvert_exporter": "python",
   "pygments_lexer": "ipython3",
   "version": "3.7.3"
  }
 },
 "nbformat": 4,
 "nbformat_minor": 2
}
