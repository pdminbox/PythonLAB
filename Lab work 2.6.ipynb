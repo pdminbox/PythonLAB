{
 "cells": [
  {
   "cell_type": "code",
   "execution_count": 6,
   "metadata": {},
   "outputs": [
    {
     "name": "stdout",
     "output_type": "stream",
     "text": [
      "{'d', 2, 4, 's', 'p', 88}\n",
      "{'d', 2, 3, 'h', 22, 'l'}\n",
      "{'d', 2, 3, 4, 's', 'h', 'p', 22, 88, 'l'}\n",
      "{'s', 88, 'p', 4}\n",
      "(6, 12, 4)\n",
      "2,3,22,('d', 'f', 'r', 9, 4, 12, 6)\n",
      "('s', 'j', 9, 3, 5)\n",
      "[6, 12, 4, 9, 'r', 'f', 'd']\n",
      "[5, 3, 9, 'j', 's']\n"
     ]
    }
   ],
   "source": [
    "param1 = {4, 88, 2,\"p\",\"s\",\"d\"}\n",
    "param2 = {22, 3, 2, \"d\", \"h\",\"l\"}\n",
    "\n",
    "print(param1)\n",
    "print(param2)\n",
    "\n",
    "tuple1 = param1|param2\n",
    "tuple2 = param1-param2\n",
    "\n",
    "print(tuple1)\n",
    "print(tuple2)\n",
    "\n",
    "\n",
    "tuple1 = (6, 12, 4, 9, \"r\", \"f\", \"d\")\n",
    "tuple2 = (5, 3, 9, \"j\", \"s\")\n",
    "\n",
    "\n",
    "print(tuple1[:3])\n",
    "\n",
    "for i in param2:\n",
    "    if str(i).isdigit():\n",
    "        print(i, end = \",\")\n",
    "\n",
    "print(tuple1[::-1])\n",
    "print(tuple2[::-1])\n",
    "\n",
    "new_list = list(tuple1)\n",
    "\n",
    "print(new_list)\n",
    "\n",
    "new_list2 = list(tuple2)\n",
    "\n",
    "print(new_list2)"
   ]
  }
 ],
 "metadata": {
  "kernelspec": {
   "display_name": "Python 3",
   "language": "python",
   "name": "python3"
  },
  "language_info": {
   "codemirror_mode": {
    "name": "ipython",
    "version": 3
   },
   "file_extension": ".py",
   "mimetype": "text/x-python",
   "name": "python",
   "nbconvert_exporter": "python",
   "pygments_lexer": "ipython3",
   "version": "3.7.3"
  }
 },
 "nbformat": 4,
 "nbformat_minor": 2
}
