{
 "cells": [
  {
   "cell_type": "code",
   "execution_count": null,
   "metadata": {},
   "outputs": [],
   "source": [
    "\"\"\"• Generate sequence 5 integers long from range(0, 100)\n",
    "• Generate random float\n",
    "• Print variables above\n",
    "• Find max element from generated sequence\n",
    "• Make a floor division between max element and generated float\n",
    "• Find factorial of the result above\n",
    "• Shorten the code as much as possible\"\"\""
   ]
  },
  {
   "cell_type": "code",
   "execution_count": 27,
   "metadata": {},
   "outputs": [
    {
     "name": "stdout",
     "output_type": "stream",
     "text": [
      "[85, 89, 40, 70, 58]\n",
      "0.8065836680859203\n",
      "89\n",
      "110.0\n",
      "15882455415227429404253703127090772871724410234473563207581748318444567162948183030959960131517678520479243672638179990208521148623422266876757623911219200000000000000000000000000\n"
     ]
    }
   ],
   "source": [
    "import math\n",
    "import random\n",
    "\n",
    "c = list(range(0, 100))\n",
    "int_seq = random.sample(c, 5)\n",
    "float_random = random.random()\n",
    "\n",
    "print(int_seq)\n",
    "print(float_random)\n",
    "\n",
    "int_seq_max=max(int_seq)\n",
    "print(int_seq_max)\n",
    "\n",
    "floor_div_result = int_seq_max//float_random\n",
    "print(floor_div_result)\n",
    "\n",
    "print(math.factorial(floor_div_result))\n"
   ]
  }
 ],
 "metadata": {
  "kernelspec": {
   "display_name": "Python 3",
   "language": "python",
   "name": "python3"
  },
  "language_info": {
   "codemirror_mode": {
    "name": "ipython",
    "version": 3
   },
   "file_extension": ".py",
   "mimetype": "text/x-python",
   "name": "python",
   "nbconvert_exporter": "python",
   "pygments_lexer": "ipython3",
   "version": "3.7.3"
  }
 },
 "nbformat": 4,
 "nbformat_minor": 2
}
