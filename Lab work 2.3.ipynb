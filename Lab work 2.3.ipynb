{
 "cells": [
  {
   "cell_type": "code",
   "execution_count": null,
   "metadata": {},
   "outputs": [],
   "source": [
    "\"\"\"• Generate string with lowercase and uppercase alphabet plus numbers\n",
    "• Print 1st symbol of string\n",
    "• Print last symbol\n",
    "• Print 3rd from start and 3rd from the end\n",
    "• Slice first 8 symbols\n",
    "• Print only symbols with index, which divides on 3 without remaining\n",
    "• Print the symbol of the middle of the string text\n",
    "• Reverse text using slice\"\"\""
   ]
  },
  {
   "cell_type": "code",
   "execution_count": 29,
   "metadata": {},
   "outputs": [
    {
     "name": "stdout",
     "output_type": "stream",
     "text": [
      "Э\n",
      "в\n",
      "о строка из 1234567890 и бу\n",
      "Это стро\n",
      "Э раз258 бв\n",
      "3\n",
      "вкуб и 0987654321 зи акортс отЭ\n"
     ]
    }
   ],
   "source": [
    "st = 'Это строка из 1234567890 и букв'\n",
    "\n",
    "print(st[0])\n",
    "print(st[-1])\n",
    "print(st[2:-2])\n",
    "print(st[0:8])\n",
    "n=0\n",
    "s=''\n",
    "for i in st:\n",
    "    if n % 3 == 0:\n",
    "        s=s+i\n",
    "    n=n+1\n",
    "print(s)  \n",
    "print(st[round(len(st)/2)])\n",
    "print(st[::-1])\n"
   ]
  }
 ],
 "metadata": {
  "kernelspec": {
   "display_name": "Python 3",
   "language": "python",
   "name": "python3"
  },
  "language_info": {
   "codemirror_mode": {
    "name": "ipython",
    "version": 3
   },
   "file_extension": ".py",
   "mimetype": "text/x-python",
   "name": "python",
   "nbconvert_exporter": "python",
   "pygments_lexer": "ipython3",
   "version": "3.7.3"
  }
 },
 "nbformat": 4,
 "nbformat_minor": 2
}
